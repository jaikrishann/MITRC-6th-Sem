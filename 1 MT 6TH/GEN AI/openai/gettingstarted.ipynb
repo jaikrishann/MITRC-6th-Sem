{
 "cells": [
  {
   "cell_type": "code",
   "execution_count": 1,
   "id": "d370bc00",
   "metadata": {},
   "outputs": [
    {
     "data": {
      "text/plain": [
       "True"
      ]
     },
     "execution_count": 1,
     "metadata": {},
     "output_type": "execute_result"
    }
   ],
   "source": [
    "import os \n",
    "from dotenv import load_dotenv\n",
    "load_dotenv()"
   ]
  },
  {
   "cell_type": "code",
   "execution_count": 2,
   "id": "f0be8876",
   "metadata": {},
   "outputs": [],
   "source": [
    "os.environ[\"OPENAI_API_KEY\"] = os.getenv(\"OPENAI_API_KEY\")\n",
    "os.environ[\"LANGCHAIN_API_KEY\"] = os.getenv(\"LANGCHAIN_API_KEY\")\n",
    "os.environ[\"LANGCHAIN_TRACING_V2\"] = \"true\"\n",
    "os.environ[\"LANGCHAIN_PROJECT\"] = os.getenv(\"LANGCHAIN_PROJECT\")"
   ]
  },
  {
   "cell_type": "code",
   "execution_count": 3,
   "id": "53b38b5d",
   "metadata": {},
   "outputs": [
    {
     "name": "stdout",
     "output_type": "stream",
     "text": [
      "client=<openai.resources.chat.completions.completions.Completions object at 0x000001B25F556950> async_client=<openai.resources.chat.completions.completions.AsyncCompletions object at 0x000001B25F570D90> root_client=<openai.OpenAI object at 0x000001B25F35A690> root_async_client=<openai.AsyncOpenAI object at 0x000001B25F556B10> model_name='gpt-4o' model_kwargs={} openai_api_key=SecretStr('**********')\n"
     ]
    }
   ],
   "source": [
    "from langchain_openai import ChatOpenAI\n",
    "llm = ChatOpenAI(model=\"gpt-4o\")\n",
    "print(llm)"
   ]
  },
  {
   "cell_type": "code",
   "execution_count": 4,
   "id": "717d3020",
   "metadata": {},
   "outputs": [
    {
     "data": {
      "text/plain": [
       "AIMessage(content='LLM can refer to a few different things, depending on the context. Here are the most common meanings:\\n\\n1. **Master of Laws (LL.M.)**: This is a postgraduate academic degree in law. People who have already obtained a primary law degree (such as a J.D., LL.B., or equivalent) typically pursue an LL.M. to gain expertise in a specialized area of law, enhance their career prospects, or meet the requirements to practice law in certain jurisdictions.\\n\\n2. **Large Language Model**: In the context of artificial intelligence and natural language processing, \"LLM\" stands for large language model. These models are advanced AI systems, like OpenAI\\'s GPT-3, that are trained on vast amounts of text data to understand and generate human-like text. They can perform a variety of language-based tasks such as text completion, translation, summarization, and answering questions.\\n\\nIf you had a specific context in mind, please let me know!', additional_kwargs={'refusal': None}, response_metadata={'token_usage': {'completion_tokens': 196, 'prompt_tokens': 12, 'total_tokens': 208, 'completion_tokens_details': {'accepted_prediction_tokens': 0, 'audio_tokens': 0, 'reasoning_tokens': 0, 'rejected_prediction_tokens': 0}, 'prompt_tokens_details': {'audio_tokens': 0, 'cached_tokens': 0}}, 'model_name': 'gpt-4o-2024-08-06', 'system_fingerprint': 'fp_a6889ffe71', 'id': 'chatcmpl-BRZiC2VW1LdQq5UDdWGmlGd2G8uGQ', 'finish_reason': 'stop', 'logprobs': None}, id='run-32894ce0-2011-4202-b370-4540cda6162b-0', usage_metadata={'input_tokens': 12, 'output_tokens': 196, 'total_tokens': 208, 'input_token_details': {'audio': 0, 'cache_read': 0}, 'output_token_details': {'audio': 0, 'reasoning': 0}})"
      ]
     },
     "execution_count": 4,
     "metadata": {},
     "output_type": "execute_result"
    }
   ],
   "source": [
    "##iput and get response\n",
    "llm.invoke(\"what is LLM?\")"
   ]
  },
  {
   "cell_type": "code",
   "execution_count": 4,
   "id": "a7d29672",
   "metadata": {},
   "outputs": [
    {
     "data": {
      "text/plain": [
       "ChatPromptTemplate(input_variables=['question'], input_types={}, partial_variables={}, messages=[SystemMessagePromptTemplate(prompt=PromptTemplate(input_variables=[], input_types={}, partial_variables={}, template='You are an expert AI engineer.Provide me answers based on the questions'), additional_kwargs={}), HumanMessagePromptTemplate(prompt=PromptTemplate(input_variables=['question'], input_types={}, partial_variables={}, template='{question}'), additional_kwargs={})])"
      ]
     },
     "execution_count": 4,
     "metadata": {},
     "output_type": "execute_result"
    }
   ],
   "source": [
    "##chatprompt template \n",
    "from langchain_core.prompts import ChatPromptTemplate\n",
    "\n",
    "prompt = ChatPromptTemplate.from_messages(\n",
    "    [\n",
    "        (\"system\",\"You are an expert AI engineer.Provide me answers based on the questions\"),\n",
    "        (\"human\",\"{question}\")\n",
    "    ]\n",
    ")\n",
    "\n",
    "prompt\n"
   ]
  },
  {
   "cell_type": "code",
   "execution_count": null,
   "id": "b457c05d",
   "metadata": {},
   "outputs": [],
   "source": [
    "chain = prompt | llm\n",
    "response = chain.invoke({\"question\":\"what is generative ai?\"})\n",
    "print(response)"
   ]
  },
  {
   "cell_type": "code",
   "execution_count": 5,
   "id": "039fe9d3",
   "metadata": {},
   "outputs": [
    {
     "name": "stdout",
     "output_type": "stream",
     "text": [
      "Generative AI refers to a category of artificial intelligence models that are designed to generate new content. This can include text, images, music, and other forms of data. Unlike traditional AI, which might simply classify or predict outcomes based on input data, generative AI creates output that is not explicitly presented in the input data, using a variety of techniques.\n",
      "\n",
      "The most popular types of generative AI include:\n",
      "\n",
      "1. **Generative Adversarial Networks (GANs):** These consist of two neural networks, a generator and a discriminator, that work against each other in a game-theoretic scenario. The generator creates new data instances, while the discriminator evaluates them against real data, improving the generator’s output over time.\n",
      "\n",
      "2. **Variational Autoencoders (VAEs):** These models learn efficient data encodings in a latent space and can generate new data by sampling from this space. VAEs are integral in generating variants of data.\n",
      "\n",
      "3. **Transformers:** Primarily used in natural language processing, transformer models like GPT (Generative Pre-trained Transformer) have become prominent for their ability to generate human-like text based on provided input.\n",
      "\n",
      "Generative AI has applications across numerous domains, including creating realistic images or videos, composing music, designing products, generating natural language text for chatbots, and creating synthetic data for training other machine-learning models.\n"
     ]
    }
   ],
   "source": [
    "##str parser \n",
    "from langchain_core.output_parsers import StrOutputParser\n",
    "output_parser = StrOutputParser()\n",
    "chain = prompt | llm | output_parser\n",
    "response = chain.invoke({\"question\":\"what is generative ai?\"})\n",
    "print(response)"
   ]
  },
  {
   "cell_type": "code",
   "execution_count": null,
   "id": "7f579e23",
   "metadata": {},
   "outputs": [],
   "source": []
  }
 ],
 "metadata": {
  "kernelspec": {
   "display_name": "Python 3",
   "language": "python",
   "name": "python3"
  },
  "language_info": {
   "codemirror_mode": {
    "name": "ipython",
    "version": 3
   },
   "file_extension": ".py",
   "mimetype": "text/x-python",
   "name": "python",
   "nbconvert_exporter": "python",
   "pygments_lexer": "ipython3",
   "version": "3.11.9"
  }
 },
 "nbformat": 4,
 "nbformat_minor": 5
}
