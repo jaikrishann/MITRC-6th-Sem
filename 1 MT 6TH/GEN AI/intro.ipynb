{
 "cells": [
  {
   "cell_type": "code",
   "execution_count": null,
   "id": "4de6d3f5",
   "metadata": {},
   "outputs": [],
   "source": [
    "##openai , ollama ,"
   ]
  },
  {
   "cell_type": "code",
   "execution_count": null,
   "id": "140c927b",
   "metadata": {},
   "outputs": [],
   "source": [
    "##data ingestion ,, data tranform , embedding , vector store "
   ]
  },
  {
   "cell_type": "code",
   "execution_count": null,
   "id": "0149d607",
   "metadata": {},
   "outputs": [],
   "source": [
    "##RAG TECHNIQUE\n",
    "##1 -- data load(pdf, excel , csv , word , txt )\n",
    "##2 -- data -- split into smaller parts (chunks)\n",
    "##3 -- embeddings -- vectors \n",
    "##4 -- vector store -- vector database\n",
    "##5 -- query -- search"
   ]
  },
  {
   "cell_type": "code",
   "execution_count": 1,
   "id": "c44a307e",
   "metadata": {},
   "outputs": [
    {
     "data": {
      "text/plain": [
       "ChatGroq(client=<groq.resources.chat.completions.Completions object at 0x000002BFE10D9810>, async_client=<groq.resources.chat.completions.AsyncCompletions object at 0x000002BFE10E4490>, model_name='Llama3-8b-8192', model_kwargs={}, groq_api_key=SecretStr('**********'))"
      ]
     },
     "execution_count": 1,
     "metadata": {},
     "output_type": "execute_result"
    }
   ],
   "source": [
    "import os\n",
    "from dotenv import load_dotenv\n",
    "load_dotenv()\n",
    "from langchain_groq import ChatGroq\n",
    "groq_api_key=os.getenv(\"GROQ_API_KEY\")\n",
    "\n",
    "os.environ[\"HF_TOKEN\"]=os.getenv(\"HF_TOKEN\")\n",
    "\n",
    "\n",
    "llm=ChatGroq(groq_api_key=groq_api_key,model=\"Llama3-8b-8192\")\n",
    "llm"
   ]
  },
  {
   "cell_type": "code",
   "execution_count": null,
   "id": "87add721",
   "metadata": {},
   "outputs": [],
   "source": []
  }
 ],
 "metadata": {
  "kernelspec": {
   "display_name": "Python 3",
   "language": "python",
   "name": "python3"
  },
  "language_info": {
   "codemirror_mode": {
    "name": "ipython",
    "version": 3
   },
   "file_extension": ".py",
   "mimetype": "text/x-python",
   "name": "python",
   "nbconvert_exporter": "python",
   "pygments_lexer": "ipython3",
   "version": "3.11.9"
  }
 },
 "nbformat": 4,
 "nbformat_minor": 5
}
