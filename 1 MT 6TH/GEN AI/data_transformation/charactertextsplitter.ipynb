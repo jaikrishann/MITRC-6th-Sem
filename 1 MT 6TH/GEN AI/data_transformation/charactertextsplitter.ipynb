{
 "cells": [
  {
   "cell_type": "code",
   "execution_count": null,
   "id": "f455d74d",
   "metadata": {},
   "outputs": [],
   "source": [
    "##how to split by characters -- character text splitter in langchain\n",
    "#this is the simpleset method , this splits based on a given character seq\n",
    "#which default to \n",
    "#1 how the text is split -- by single character seq \n",
    "#2 how the chunk size is measured  -- by number of characters"
   ]
  },
  {
   "cell_type": "code",
   "execution_count": 1,
   "id": "4939b72a",
   "metadata": {},
   "outputs": [],
   "source": [
    "from langchain_community.document_loaders import TextLoader"
   ]
  },
  {
   "cell_type": "code",
   "execution_count": 2,
   "id": "f0a7d1f3",
   "metadata": {},
   "outputs": [
    {
     "data": {
      "text/plain": [
       "[Document(metadata={'source': 'speech.txt'}, page_content='The world must be made safe for democracy. Its peace must be planted upon the tested foundations of political liberty. We have no selfish ends to serve. We desire no conquest, no dominion. We seek no indemnities for ourselves, no material compensation for the sacrifices we shall freely make. We are but one of the champions of the rights of mankind. We shall be satisfied when those rights have been made as secure as the faith and the freedom of nations can make them.\\n\\nJust because we fight without rancor and without selfish object, seeking nothing for ourselves but what we shall wish to share with all free peoples, we shall, I feel confident, conduct our operations as belligerents without passion and ourselves observe with proud punctilio the principles of right and of fair play we profess to be fighting for.\\n\\nâ€¦\\n\\nIt will be all the easier for us to conduct ourselves as belligerents in a high spirit of right and fairness because we act without animus, not in enmity toward a people or with the desire to bring any injury or disadvantage upon them, but only in armed opposition to an irresponsible government which has thrown aside all considerations of humanity and of right and is running amuck. We are, let me say again, the sincere friends of the German people, and shall desire nothing so much as the early reestablishment of intimate relations of mutual advantage between usâ€”however hard it may be for them, for the time being, to believe that this is spoken from our hearts.\\n\\nWe have borne with their present government through all these bitter months because of that friendshipâ€”exercising a patience and forbearance which would otherwise have been impossible. We shall, happily, still have an opportunity to prove that friendship in our daily attitude and actions toward the millions of men and women of German birth and native sympathy who live among us and share our life, and we shall be proud to prove it toward all who are in fact loyal to their neighbors and to the government in the hour of test. They are, most of them, as true and loyal Americans as if they had never known any other fealty or allegiance. They will be prompt to stand with us in rebuking and restraining the few who may be of a different mind and purpose. If there should be disloyalty, it will be dealt with with a firm hand of stern repression; but, if it lifts its head at all, it will lift it only here and there and without countenance except from a lawless and malignant few.\\n\\nIt is a distressing and oppressive duty, gentlemen of the Congress, which I have performed in thus addressing you. There are, it may be, many months of fiery trial and sacrifice ahead of us. It is a fearful thing to lead this great peaceful people into war, into the most terrible and disastrous of all wars, civilization itself seeming to be in the balance. But the right is more precious than peace, and we shall fight for the things which we have always carried nearest our heartsâ€”for democracy, for the right of those who submit to authority to have a voice in their own governments, for the rights and liberties of small nations, for a universal dominion of right by such a concert of free peoples as shall bring peace and safety to all nations and make the world itself at last free.\\n\\nTo such a task we can dedicate our lives and our fortunes, everything that we are and everything that we have, with the pride of those who know that the day has come when America is privileged to spend her blood and her might for the principles that gave her birth and happiness and the peace which she has treasured. God helping her, she can do no other.')]"
      ]
     },
     "execution_count": 2,
     "metadata": {},
     "output_type": "execute_result"
    }
   ],
   "source": [
    "loader = TextLoader(\"speech.txt\")\n",
    "docs = loader.load()\n",
    "docs"
   ]
  },
  {
   "cell_type": "code",
   "execution_count": 3,
   "id": "a81a6f51",
   "metadata": {},
   "outputs": [],
   "source": [
    "from langchain_text_splitters import CharacterTextSplitter"
   ]
  },
  {
   "cell_type": "code",
   "execution_count": 4,
   "id": "3ea51459",
   "metadata": {},
   "outputs": [
    {
     "data": {
      "text/plain": [
       "[Document(metadata={'source': 'speech.txt'}, page_content='The world must be made safe for democracy. Its peace must be planted upon the tested foundations of'),\n",
       " Document(metadata={'source': 'speech.txt'}, page_content='foundations of political liberty. We have no selfish ends to serve. We desire no conquest, no'),\n",
       " Document(metadata={'source': 'speech.txt'}, page_content='no conquest, no dominion. We seek no indemnities for ourselves, no material compensation for the'),\n",
       " Document(metadata={'source': 'speech.txt'}, page_content='compensation for the sacrifices we shall freely make. We are but one of the champions of the rights'),\n",
       " Document(metadata={'source': 'speech.txt'}, page_content='of the rights of mankind. We shall be satisfied when those rights have been made as secure as the'),\n",
       " Document(metadata={'source': 'speech.txt'}, page_content='as secure as the faith and the freedom of nations can make them.\\n\\nJust because we fight without'),\n",
       " Document(metadata={'source': 'speech.txt'}, page_content='we fight without rancor and without selfish object, seeking nothing for ourselves but what we shall'),\n",
       " Document(metadata={'source': 'speech.txt'}, page_content='but what we shall wish to share with all free peoples, we shall, I feel confident, conduct our'),\n",
       " Document(metadata={'source': 'speech.txt'}, page_content='conduct our operations as belligerents without passion and ourselves observe with proud punctilio'),\n",
       " Document(metadata={'source': 'speech.txt'}, page_content='with proud punctilio the principles of right and of fair play we profess to be fighting'),\n",
       " Document(metadata={'source': 'speech.txt'}, page_content='to be fighting for.\\n\\nâ€¦\\n\\nIt will be all the easier for us to conduct ourselves as belligerents in a'),\n",
       " Document(metadata={'source': 'speech.txt'}, page_content='as belligerents in a high spirit of right and fairness because we act without animus, not in enmity'),\n",
       " Document(metadata={'source': 'speech.txt'}, page_content='not in enmity toward a people or with the desire to bring any injury or disadvantage upon them, but'),\n",
       " Document(metadata={'source': 'speech.txt'}, page_content='upon them, but only in armed opposition to an irresponsible government which has thrown aside all'),\n",
       " Document(metadata={'source': 'speech.txt'}, page_content='has thrown aside all considerations of humanity and of right and is running amuck. We are, let me'),\n",
       " Document(metadata={'source': 'speech.txt'}, page_content='We are, let me say again, the sincere friends of the German people, and shall desire nothing so much'),\n",
       " Document(metadata={'source': 'speech.txt'}, page_content='nothing so much as the early reestablishment of intimate relations of mutual advantage between'),\n",
       " Document(metadata={'source': 'speech.txt'}, page_content='advantage between usâ€”however hard it may be for them, for the time being, to believe that this is'),\n",
       " Document(metadata={'source': 'speech.txt'}, page_content='believe that this is spoken from our hearts.\\n\\nWe have borne with their present government through'),\n",
       " Document(metadata={'source': 'speech.txt'}, page_content='government through all these bitter months because of that friendshipâ€”exercising a patience and'),\n",
       " Document(metadata={'source': 'speech.txt'}, page_content='a patience and forbearance which would otherwise have been impossible. We shall, happily, still have'),\n",
       " Document(metadata={'source': 'speech.txt'}, page_content='happily, still have an opportunity to prove that friendship in our daily attitude and actions toward'),\n",
       " Document(metadata={'source': 'speech.txt'}, page_content='and actions toward the millions of men and women of German birth and native sympathy who live among'),\n",
       " Document(metadata={'source': 'speech.txt'}, page_content='who live among us and share our life, and we shall be proud to prove it toward all who are in fact'),\n",
       " Document(metadata={'source': 'speech.txt'}, page_content='all who are in fact loyal to their neighbors and to the government in the hour of test. They are,'),\n",
       " Document(metadata={'source': 'speech.txt'}, page_content='of test. They are, most of them, as true and loyal Americans as if they had never known any other'),\n",
       " Document(metadata={'source': 'speech.txt'}, page_content='known any other fealty or allegiance. They will be prompt to stand with us in rebuking and'),\n",
       " Document(metadata={'source': 'speech.txt'}, page_content='us in rebuking and restraining the few who may be of a different mind and purpose. If there should'),\n",
       " Document(metadata={'source': 'speech.txt'}, page_content='If there should be disloyalty, it will be dealt with with a firm hand of stern repression; but, if'),\n",
       " Document(metadata={'source': 'speech.txt'}, page_content='repression; but, if it lifts its head at all, it will lift it only here and there and without'),\n",
       " Document(metadata={'source': 'speech.txt'}, page_content='there and without countenance except from a lawless and malignant few.\\n\\nIt is a distressing and'),\n",
       " Document(metadata={'source': 'speech.txt'}, page_content='is a distressing and oppressive duty, gentlemen of the Congress, which I have performed in thus'),\n",
       " Document(metadata={'source': 'speech.txt'}, page_content='performed in thus addressing you. There are, it may be, many months of fiery trial and sacrifice'),\n",
       " Document(metadata={'source': 'speech.txt'}, page_content='trial and sacrifice ahead of us. It is a fearful thing to lead this great peaceful people into war,'),\n",
       " Document(metadata={'source': 'speech.txt'}, page_content='people into war, into the most terrible and disastrous of all wars, civilization itself seeming to'),\n",
       " Document(metadata={'source': 'speech.txt'}, page_content='itself seeming to be in the balance. But the right is more precious than peace, and we shall fight'),\n",
       " Document(metadata={'source': 'speech.txt'}, page_content='and we shall fight for the things which we have always carried nearest our heartsâ€”for democracy,'),\n",
       " Document(metadata={'source': 'speech.txt'}, page_content='democracy, for the right of those who submit to authority to have a voice in their own governments,'),\n",
       " Document(metadata={'source': 'speech.txt'}, page_content='own governments, for the rights and liberties of small nations, for a universal dominion of right by'),\n",
       " Document(metadata={'source': 'speech.txt'}, page_content='dominion of right by such a concert of free peoples as shall bring peace and safety to all nations'),\n",
       " Document(metadata={'source': 'speech.txt'}, page_content='to all nations and make the world itself at last free.\\n\\nTo such a task we can dedicate our lives and'),\n",
       " Document(metadata={'source': 'speech.txt'}, page_content='our lives and our fortunes, everything that we are and everything that we have, with the pride of'),\n",
       " Document(metadata={'source': 'speech.txt'}, page_content='with the pride of those who know that the day has come when America is privileged to spend her blood'),\n",
       " Document(metadata={'source': 'speech.txt'}, page_content='to spend her blood and her might for the principles that gave her birth and happiness and the peace'),\n",
       " Document(metadata={'source': 'speech.txt'}, page_content='and the peace which she has treasured. God helping her, she can do no other.')]"
      ]
     },
     "execution_count": 4,
     "metadata": {},
     "output_type": "execute_result"
    }
   ],
   "source": [
    "text_splitter = CharacterTextSplitter(\n",
    "    separator = \" \",\n",
    "    chunk_size = 100,\n",
    "    chunk_overlap  = 20,\n",
    "    \n",
    ")\n",
    "text_splitter.split_documents(docs)"
   ]
  },
  {
   "cell_type": "code",
   "execution_count": null,
   "id": "684c4ab9",
   "metadata": {},
   "outputs": [],
   "source": []
  }
 ],
 "metadata": {
  "kernelspec": {
   "display_name": "Python 3",
   "language": "python",
   "name": "python3"
  },
  "language_info": {
   "codemirror_mode": {
    "name": "ipython",
    "version": 3
   },
   "file_extension": ".py",
   "mimetype": "text/x-python",
   "name": "python",
   "nbconvert_exporter": "python",
   "pygments_lexer": "ipython3",
   "version": "3.11.9"
  }
 },
 "nbformat": 4,
 "nbformat_minor": 5
}
