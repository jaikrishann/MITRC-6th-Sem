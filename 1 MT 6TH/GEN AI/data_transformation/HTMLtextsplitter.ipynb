{
 "cells": [
  {
   "cell_type": "code",
   "execution_count": null,
   "id": "5573d0ac",
   "metadata": {},
   "outputs": [],
   "source": [
    "##html related -- tags removed"
   ]
  },
  {
   "cell_type": "code",
   "execution_count": 1,
   "id": "1841cd22",
   "metadata": {},
   "outputs": [],
   "source": [
    "from langchain_text_splitters import HTMLHeaderTextSplitter"
   ]
  },
  {
   "cell_type": "code",
   "execution_count": 2,
   "id": "149e346d",
   "metadata": {},
   "outputs": [],
   "source": [
    "html_string = \"\"\"\n",
    "<!DOCTYPE html>\n",
    "<html lang=\"en\">\n",
    "<head>\n",
    "  <meta charset=\"UTF-8\" />\n",
    "  <meta name=\"viewport\" content=\"width=device-width, initial-scale=1.0\" />\n",
    "  <title>Heading Levels Demo</title>\n",
    "\n",
    "  <!-- Quick, minimal styling so you can see the difference clearly -->\n",
    "  <style>\n",
    "    body {\n",
    "      font-family: system-ui, sans-serif;\n",
    "      margin: 2rem;\n",
    "      line-height: 1.4;\n",
    "    }\n",
    "  </style>\n",
    "</head>\n",
    "<body>\n",
    "\n",
    "  <h1>This is an H1 heading (largest)</h1>\n",
    "  <h2>This is an H2 heading</h2>\n",
    "  <h3>This is an H3 heading</h3>\n",
    "  <h4>This is an H4 heading (smallest of the four)</h4>\n",
    "\n",
    "</body>\n",
    "</html>\n",
    "\n",
    "\n",
    "\"\"\""
   ]
  },
  {
   "cell_type": "code",
   "execution_count": 4,
   "id": "6fbf5e51",
   "metadata": {},
   "outputs": [
    {
     "name": "stdout",
     "output_type": "stream",
     "text": [
      "[Document(metadata={'Header 1': 'This is an H1 heading (largest)'}, page_content='This is an H1 heading (largest)'), Document(metadata={'Header 1': 'This is an H1 heading (largest)', 'Header 2': 'This is an H2 heading'}, page_content='This is an H2 heading'), Document(metadata={'Header 1': 'This is an H1 heading (largest)', 'Header 2': 'This is an H2 heading', 'Header 3': 'This is an H3 heading'}, page_content='This is an H3 heading'), Document(metadata={'Header 1': 'This is an H1 heading (largest)', 'Header 2': 'This is an H2 heading', 'Header 3': 'This is an H3 heading'}, page_content='This is an H4 heading (smallest of the four)')]\n"
     ]
    }
   ],
   "source": [
    "headers_to_split = [\n",
    "    (\"h1\",\"Header 1\"),\n",
    "    (\"h2\",\"Header 2\"),\n",
    "    (\"h3\",\"Header 3\"),\n",
    "]\n",
    "html_splitter = HTMLHeaderTextSplitter(headers_to_split_on=headers_to_split)\n",
    "html_header_splits = html_splitter.split_text(html_string)\n",
    "print(html_header_splits)"
   ]
  },
  {
   "cell_type": "code",
   "execution_count": null,
   "id": "03513577",
   "metadata": {},
   "outputs": [],
   "source": [
    "https://api.smith.langchain.com/openapi.json"
   ]
  }
 ],
 "metadata": {
  "kernelspec": {
   "display_name": "Python 3",
   "language": "python",
   "name": "python3"
  },
  "language_info": {
   "codemirror_mode": {
    "name": "ipython",
    "version": 3
   },
   "file_extension": ".py",
   "mimetype": "text/x-python",
   "name": "python",
   "nbconvert_exporter": "python",
   "pygments_lexer": "ipython3",
   "version": "3.11.9"
  }
 },
 "nbformat": 4,
 "nbformat_minor": 5
}
