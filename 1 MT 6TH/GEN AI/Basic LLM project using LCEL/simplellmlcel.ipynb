{
 "cells": [
  {
   "cell_type": "code",
   "execution_count": 1,
   "id": "7a87ec1f",
   "metadata": {},
   "outputs": [],
   "source": [
    "##lcel = LANGUAGE EXPRESSION LANGUAGE\n",
    "## text english -- convert --- other language me \n",
    "##groq api !!!\n"
   ]
  },
  {
   "cell_type": "code",
   "execution_count": 2,
   "id": "03a4ae56",
   "metadata": {},
   "outputs": [
    {
     "data": {
      "text/plain": [
       "True"
      ]
     },
     "execution_count": 2,
     "metadata": {},
     "output_type": "execute_result"
    }
   ],
   "source": [
    "import os \n",
    "from dotenv import load_dotenv\n",
    "load_dotenv()"
   ]
  },
  {
   "cell_type": "code",
   "execution_count": 3,
   "id": "2573d0cf",
   "metadata": {},
   "outputs": [],
   "source": [
    "import openai\n",
    "openai.api_key = os.getenv(\"OPENAI_API_KEY\")\n",
    "##groq api \n",
    "groq_api_key = os.getenv(\"GROQ_API_KEY\")"
   ]
  },
  {
   "cell_type": "code",
   "execution_count": 4,
   "id": "1cf1d0a9",
   "metadata": {},
   "outputs": [
    {
     "data": {
      "text/plain": [
       "ChatGroq(client=<groq.resources.chat.completions.Completions object at 0x0000018BECF74850>, async_client=<groq.resources.chat.completions.AsyncCompletions object at 0x0000018BECF77410>, model_name='Gemma2-9b-It', model_kwargs={}, groq_api_key=SecretStr('**********'))"
      ]
     },
     "execution_count": 4,
     "metadata": {},
     "output_type": "execute_result"
    }
   ],
   "source": [
    "from langchain_openai import ChatOpenAI\n",
    "from langchain_groq import ChatGroq\n",
    "model = ChatGroq(model=\"Gemma2-9b-It\",groq_api_key= groq_api_key)\n",
    "model"
   ]
  },
  {
   "cell_type": "code",
   "execution_count": 5,
   "id": "1615fe90",
   "metadata": {},
   "outputs": [
    {
     "name": "stdout",
     "output_type": "stream",
     "text": [
      "Au revoir!  \n",
      "\n",
      "**Please note:** I'm ready to translate your English text to French whenever you need! Just let me know what you'd like me to translate. 😊  \n",
      "\n"
     ]
    }
   ],
   "source": [
    "from langchain_core.messages import HumanMessage,SystemMessage\n",
    "\n",
    "messages = [\n",
    "    SystemMessage(content=\"You are a helpful assistant that translates English to French.\"),\n",
    "    HumanMessage(content=\"bye .\")\n",
    "]\n",
    "result = model.invoke(messages)\n",
    "print(result.content)"
   ]
  },
  {
   "cell_type": "code",
   "execution_count": 6,
   "id": "cf4bf9e3",
   "metadata": {},
   "outputs": [
    {
     "data": {
      "text/plain": [
       "\"Au revoir!  \\n\\n**Please note:** I'm ready to translate your English text to French whenever you need! Just let me know what you'd like me to translate. 😊  \\n\""
      ]
     },
     "execution_count": 6,
     "metadata": {},
     "output_type": "execute_result"
    }
   ],
   "source": [
    "from langchain_core.output_parsers import StrOutputParser\n",
    "parser = StrOutputParser()\n",
    "parser.invoke(result)"
   ]
  },
  {
   "cell_type": "code",
   "execution_count": 7,
   "id": "0950677c",
   "metadata": {},
   "outputs": [
    {
     "data": {
      "text/plain": [
       "'Au revoir !  👋 \\n\\nLet me know if you need anything else translated in the future. 😊  \\n'"
      ]
     },
     "execution_count": 7,
     "metadata": {},
     "output_type": "execute_result"
    }
   ],
   "source": [
    "##using lcel \n",
    "chain = model | parser\n",
    "chain.invoke(messages)"
   ]
  },
  {
   "cell_type": "code",
   "execution_count": 8,
   "id": "536025c5",
   "metadata": {},
   "outputs": [],
   "source": [
    "##prompt template \n",
    "from langchain_core.prompts import ChatPromptTemplate\n",
    "generic_template= \"Translate the following into {language}\"\n",
    "prompt = ChatPromptTemplate.from_messages(\n",
    "  [\n",
    "      (\"system\" , generic_template), (\"user\" , \"{text}\")\n",
    "  ]  \n",
    ") "
   ]
  },
  {
   "cell_type": "code",
   "execution_count": 9,
   "id": "5fd924dc",
   "metadata": {},
   "outputs": [
    {
     "data": {
      "text/plain": [
       "[SystemMessage(content='Translate the following into French', additional_kwargs={}, response_metadata={}),\n",
       " HumanMessage(content='hello', additional_kwargs={}, response_metadata={})]"
      ]
     },
     "execution_count": 9,
     "metadata": {},
     "output_type": "execute_result"
    }
   ],
   "source": [
    "result = prompt.invoke({\"language\": \"French\", \"text\": \"hello\"})\n",
    "result.to_messages()"
   ]
  },
  {
   "cell_type": "code",
   "execution_count": 10,
   "id": "24f2a64e",
   "metadata": {},
   "outputs": [
    {
     "data": {
      "text/plain": [
       "'The Urdu translation of \"hello\" is:\\n\\n**سلام** (Salaam) \\n\\n\\nIt is a common greeting used in both formal and informal settings. \\n'"
      ]
     },
     "execution_count": 10,
     "metadata": {},
     "output_type": "execute_result"
    }
   ],
   "source": [
    "##chaining the compenets through lecl \n",
    "chain = prompt | model | parser\n",
    "chain.invoke({\"language\": \"Urdu\", \"text\": \"hello\"})"
   ]
  },
  {
   "cell_type": "code",
   "execution_count": null,
   "id": "3e7e80b1",
   "metadata": {},
   "outputs": [],
   "source": []
  }
 ],
 "metadata": {
  "kernelspec": {
   "display_name": "Python 3",
   "language": "python",
   "name": "python3"
  },
  "language_info": {
   "codemirror_mode": {
    "name": "ipython",
    "version": 3
   },
   "file_extension": ".py",
   "mimetype": "text/x-python",
   "name": "python",
   "nbconvert_exporter": "python",
   "pygments_lexer": "ipython3",
   "version": "3.11.9"
  }
 },
 "nbformat": 4,
 "nbformat_minor": 5
}
