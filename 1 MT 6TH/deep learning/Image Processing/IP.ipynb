{
 "cells": [
  {
   "cell_type": "code",
   "execution_count": null,
   "id": "c51f9da6",
   "metadata": {},
   "outputs": [],
   "source": [
    "# Ip involves performing operations on images to enchance them , \n",
    "# extract features , or prepare them for other applications like computer vision or ml. \n",
    "# two types - \n",
    "# 1 - analog IP \n",
    "# 2 Digital Ip \n",
    "\n",
    "##common goals --noise reduction ,image enchance,image restoration , object detection \n",
    "\n",
    "#applications of IP \n",
    "#1 -- medical \n",
    "##Automation\n",
    "#security \n",
    "##mutlimedia "
   ]
  },
  {
   "cell_type": "code",
   "execution_count": null,
   "id": "8709906c",
   "metadata": {},
   "outputs": [],
   "source": [
    "###Image -- pixel \n",
    "## 2 types of image -- grey - scale(black-white) , RGB\n",
    "\n",
    "##grey scale -- 0-225 ---0 = black , 225 === white \n",
    "##rGB = 256 x 256 x 256\n",
    "\n",
    "##opencv--c++ ---- BGR -- default format to load images \n",
    "#  , pillow(pil)"
   ]
  },
  {
   "cell_type": "code",
   "execution_count": null,
   "id": "40a2aaf0",
   "metadata": {},
   "outputs": [],
   "source": [
    "pip install opencv-python"
   ]
  },
  {
   "cell_type": "code",
   "execution_count": null,
   "id": "93810344",
   "metadata": {},
   "outputs": [
    {
     "ename": "",
     "evalue": "",
     "output_type": "error",
     "traceback": [
      "\u001b[1;31mThe Kernel crashed while executing code in the current cell or a previous cell. \n",
      "\u001b[1;31mPlease review the code in the cell(s) to identify a possible cause of the failure. \n",
      "\u001b[1;31mClick <a href='https://aka.ms/vscodeJupyterKernelCrash'>here</a> for more info. \n",
      "\u001b[1;31mView Jupyter <a href='command:jupyter.viewOutput'>log</a> for further details."
     ]
    }
   ],
   "source": [
    "import cv2\n",
    "img = cv2.imread(\"image.jpg\")\n",
    "cv2.imshow(\"image\",img)\n",
    "cv2.imwrite(\"output.jpg\",img)\n",
    "cv2.waitKey(0)\n",
    "cv2.destroyAllWindows()"
   ]
  },
  {
   "cell_type": "code",
   "execution_count": null,
   "id": "568e1153",
   "metadata": {},
   "outputs": [],
   "source": [
    "##pillow \n",
    "from PIL import Image\n",
    "img = Image.open(\"image.jpg\")\n",
    "img.show()\n",
    "# img.save(\"output.jpg\")\n"
   ]
  },
  {
   "cell_type": "code",
   "execution_count": null,
   "id": "895f9926",
   "metadata": {},
   "outputs": [],
   "source": [
    "##image aatributes :-\n",
    "# 1 shape - (height x widhth x channels) \n",
    "# 2 size - no of pixels \n",
    "# 3 dtype  - uint8"
   ]
  },
  {
   "cell_type": "code",
   "execution_count": null,
   "id": "7de16512",
   "metadata": {},
   "outputs": [],
   "source": [
    "##transformation scaling , transaltion , rotation , affine scaling(resize )\n",
    "import numpy as np \n",
    "#resize \n",
    "resized = cv2.resize(img,(300,300))\n",
    "\n",
    "##transaltion(shifting)\n",
    "M = np.float32([[1,0,50],[0,1,100]])  #shift x by 50  , y by 100 \n",
    "transalted = cv2.warpAffine(img,M,(cols,rows))\n",
    "\n",
    "##roatation \n",
    "M = cv2.getRotationMatrix2D(center,angle,scale)\n",
    "roated = cv2.warpAffine(img,M,(width,height))\n",
    "\n",
    "##flipp\n",
    "cv2.flip(img,0)            ##vertical \n",
    "cv2.flip(img,1)            ##horizontal\n",
    "\n",
    "##cropping \n",
    "cropped = img[y1:y2,x1:x2]      ## this selects a rectangular portion\n",
    "\n",
    "\n",
    "##RGB to grey scale \n",
    "gray = cv2.cvtColor(img,cv2.COLOR_BGR2GRAY)"
   ]
  }
 ],
 "metadata": {
  "kernelspec": {
   "display_name": "Python 3",
   "language": "python",
   "name": "python3"
  },
  "language_info": {
   "codemirror_mode": {
    "name": "ipython",
    "version": 3
   },
   "file_extension": ".py",
   "mimetype": "text/x-python",
   "name": "python",
   "nbconvert_exporter": "python",
   "pygments_lexer": "ipython3",
   "version": "3.11.9"
  }
 },
 "nbformat": 4,
 "nbformat_minor": 5
}
