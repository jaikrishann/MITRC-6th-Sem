{
 "cells": [
  {
   "cell_type": "code",
   "execution_count": 18,
   "id": "1fa8ad21",
   "metadata": {},
   "outputs": [],
   "source": [
    "import nltk"
   ]
  },
  {
   "cell_type": "code",
   "execution_count": 19,
   "id": "5b3c95fe",
   "metadata": {},
   "outputs": [
    {
     "data": {
      "text/plain": [
       "\"following his decision to relocate the Mughal's capital from Agra to Delhi. Originally adorned in red and white, the fort's design is attributed to Ustad Ahmad Lahori, the architect behind the Taj Mahal.\""
      ]
     },
     "execution_count": 19,
     "metadata": {},
     "output_type": "execute_result"
    }
   ],
   "source": [
    "corpus = \"following his decision to relocate the Mughal's capital from Agra to Delhi. Originally adorned in red and white, the fort's design is attributed to Ustad Ahmad Lahori, \" \\\n",
    "\"the architect behind the Taj Mahal.\"\n",
    "corpus"
   ]
  },
  {
   "cell_type": "code",
   "execution_count": 20,
   "id": "6ae141c3",
   "metadata": {},
   "outputs": [],
   "source": [
    "from nltk.tokenize import sent_tokenize"
   ]
  },
  {
   "cell_type": "code",
   "execution_count": 21,
   "id": "9e6bc9a7",
   "metadata": {},
   "outputs": [
    {
     "name": "stderr",
     "output_type": "stream",
     "text": [
      "[nltk_data] Downloading package punkt_tab to\n",
      "[nltk_data]     C:\\Users\\jaikr\\AppData\\Roaming\\nltk_data...\n",
      "[nltk_data]   Package punkt_tab is already up-to-date!\n"
     ]
    },
    {
     "data": {
      "text/plain": [
       "True"
      ]
     },
     "execution_count": 21,
     "metadata": {},
     "output_type": "execute_result"
    }
   ],
   "source": [
    "nltk.download('punkt_tab')"
   ]
  },
  {
   "cell_type": "code",
   "execution_count": 22,
   "id": "929cc438",
   "metadata": {},
   "outputs": [
    {
     "data": {
      "text/plain": [
       "[\"following his decision to relocate the Mughal's capital from Agra to Delhi.\",\n",
       " \"Originally adorned in red and white, the fort's design is attributed to Ustad Ahmad Lahori, the architect behind the Taj Mahal.\"]"
      ]
     },
     "execution_count": 22,
     "metadata": {},
     "output_type": "execute_result"
    }
   ],
   "source": [
    "document = sent_tokenize(corpus)\n",
    "document"
   ]
  },
  {
   "cell_type": "code",
   "execution_count": 23,
   "id": "cad4f5a1",
   "metadata": {},
   "outputs": [
    {
     "data": {
      "text/plain": [
       "list"
      ]
     },
     "execution_count": 23,
     "metadata": {},
     "output_type": "execute_result"
    }
   ],
   "source": [
    "type(document)"
   ]
  },
  {
   "cell_type": "code",
   "execution_count": 24,
   "id": "73d67c22",
   "metadata": {},
   "outputs": [
    {
     "name": "stdout",
     "output_type": "stream",
     "text": [
      "following his decision to relocate the Mughal's capital from Agra to Delhi.\n",
      "Originally adorned in red and white, the fort's design is attributed to Ustad Ahmad Lahori, the architect behind the Taj Mahal.\n"
     ]
    }
   ],
   "source": [
    "for sent in document:\n",
    "    print(sent)"
   ]
  },
  {
   "cell_type": "code",
   "execution_count": 25,
   "id": "5159752e",
   "metadata": {},
   "outputs": [],
   "source": [
    "###paragraphs ---> words \n",
    "##sent ----> words "
   ]
  },
  {
   "cell_type": "code",
   "execution_count": 26,
   "id": "3767ab2a",
   "metadata": {},
   "outputs": [],
   "source": [
    "from nltk.tokenize import word_tokenize"
   ]
  },
  {
   "cell_type": "code",
   "execution_count": 27,
   "id": "12967062",
   "metadata": {},
   "outputs": [
    {
     "data": {
      "text/plain": [
       "['following',\n",
       " 'his',\n",
       " 'decision',\n",
       " 'to',\n",
       " 'relocate',\n",
       " 'the',\n",
       " 'Mughal',\n",
       " \"'s\",\n",
       " 'capital',\n",
       " 'from',\n",
       " 'Agra',\n",
       " 'to',\n",
       " 'Delhi',\n",
       " '.',\n",
       " 'Originally',\n",
       " 'adorned',\n",
       " 'in',\n",
       " 'red',\n",
       " 'and',\n",
       " 'white',\n",
       " ',',\n",
       " 'the',\n",
       " 'fort',\n",
       " \"'s\",\n",
       " 'design',\n",
       " 'is',\n",
       " 'attributed',\n",
       " 'to',\n",
       " 'Ustad',\n",
       " 'Ahmad',\n",
       " 'Lahori',\n",
       " ',',\n",
       " 'the',\n",
       " 'architect',\n",
       " 'behind',\n",
       " 'the',\n",
       " 'Taj',\n",
       " 'Mahal',\n",
       " '.']"
      ]
     },
     "execution_count": 27,
     "metadata": {},
     "output_type": "execute_result"
    }
   ],
   "source": [
    "word_tokenize(corpus)"
   ]
  },
  {
   "cell_type": "code",
   "execution_count": 28,
   "id": "bd373c7e",
   "metadata": {},
   "outputs": [
    {
     "name": "stdout",
     "output_type": "stream",
     "text": [
      "['following', 'his', 'decision', 'to', 'relocate', 'the', 'Mughal', \"'s\", 'capital', 'from', 'Agra', 'to', 'Delhi', '.']\n",
      "['Originally', 'adorned', 'in', 'red', 'and', 'white', ',', 'the', 'fort', \"'s\", 'design', 'is', 'attributed', 'to', 'Ustad', 'Ahmad', 'Lahori', ',', 'the', 'architect', 'behind', 'the', 'Taj', 'Mahal', '.']\n"
     ]
    }
   ],
   "source": [
    "for sent in document:\n",
    "    print(word_tokenize(sent))"
   ]
  },
  {
   "cell_type": "code",
   "execution_count": 29,
   "id": "39b0b720",
   "metadata": {},
   "outputs": [],
   "source": [
    "from nltk.tokenize import wordpunct_tokenize"
   ]
  },
  {
   "cell_type": "code",
   "execution_count": 30,
   "id": "5aa830a7",
   "metadata": {},
   "outputs": [
    {
     "data": {
      "text/plain": [
       "['following',\n",
       " 'his',\n",
       " 'decision',\n",
       " 'to',\n",
       " 'relocate',\n",
       " 'the',\n",
       " 'Mughal',\n",
       " \"'\",\n",
       " 's',\n",
       " 'capital',\n",
       " 'from',\n",
       " 'Agra',\n",
       " 'to',\n",
       " 'Delhi',\n",
       " '.',\n",
       " 'Originally',\n",
       " 'adorned',\n",
       " 'in',\n",
       " 'red',\n",
       " 'and',\n",
       " 'white',\n",
       " ',',\n",
       " 'the',\n",
       " 'fort',\n",
       " \"'\",\n",
       " 's',\n",
       " 'design',\n",
       " 'is',\n",
       " 'attributed',\n",
       " 'to',\n",
       " 'Ustad',\n",
       " 'Ahmad',\n",
       " 'Lahori',\n",
       " ',',\n",
       " 'the',\n",
       " 'architect',\n",
       " 'behind',\n",
       " 'the',\n",
       " 'Taj',\n",
       " 'Mahal',\n",
       " '.']"
      ]
     },
     "execution_count": 30,
     "metadata": {},
     "output_type": "execute_result"
    }
   ],
   "source": [
    "wordpunct_tokenize(corpus)"
   ]
  },
  {
   "cell_type": "code",
   "execution_count": 32,
   "id": "1faccffd",
   "metadata": {},
   "outputs": [],
   "source": [
    "from nltk.tokenize import TreebankWordTokenizer\n",
    "\n",
    "tokenizer = TreebankWordTokenizer()"
   ]
  },
  {
   "cell_type": "code",
   "execution_count": 33,
   "id": "1ae830be",
   "metadata": {},
   "outputs": [
    {
     "data": {
      "text/plain": [
       "['following',\n",
       " 'his',\n",
       " 'decision',\n",
       " 'to',\n",
       " 'relocate',\n",
       " 'the',\n",
       " 'Mughal',\n",
       " \"'s\",\n",
       " 'capital',\n",
       " 'from',\n",
       " 'Agra',\n",
       " 'to',\n",
       " 'Delhi.',\n",
       " 'Originally',\n",
       " 'adorned',\n",
       " 'in',\n",
       " 'red',\n",
       " 'and',\n",
       " 'white',\n",
       " ',',\n",
       " 'the',\n",
       " 'fort',\n",
       " \"'s\",\n",
       " 'design',\n",
       " 'is',\n",
       " 'attributed',\n",
       " 'to',\n",
       " 'Ustad',\n",
       " 'Ahmad',\n",
       " 'Lahori',\n",
       " ',',\n",
       " 'the',\n",
       " 'architect',\n",
       " 'behind',\n",
       " 'the',\n",
       " 'Taj',\n",
       " 'Mahal',\n",
       " '.']"
      ]
     },
     "execution_count": 33,
     "metadata": {},
     "output_type": "execute_result"
    }
   ],
   "source": [
    "tokenizer.tokenize(corpus)"
   ]
  },
  {
   "cell_type": "code",
   "execution_count": null,
   "id": "78c4ba0c",
   "metadata": {},
   "outputs": [],
   "source": []
  }
 ],
 "metadata": {
  "kernelspec": {
   "display_name": "Python 3",
   "language": "python",
   "name": "python3"
  },
  "language_info": {
   "codemirror_mode": {
    "name": "ipython",
    "version": 3
   },
   "file_extension": ".py",
   "mimetype": "text/x-python",
   "name": "python",
   "nbconvert_exporter": "python",
   "pygments_lexer": "ipython3",
   "version": "3.11.9"
  }
 },
 "nbformat": 4,
 "nbformat_minor": 5
}
