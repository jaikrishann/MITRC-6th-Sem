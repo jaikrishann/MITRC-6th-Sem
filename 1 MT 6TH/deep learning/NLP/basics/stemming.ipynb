{
 "cells": [
  {
   "cell_type": "code",
   "execution_count": 1,
   "id": "13b83d18",
   "metadata": {},
   "outputs": [],
   "source": [
    "words = [\"eating\",\"eats\",\"eaten\",\"writing\",\"writes\",\"programming\",\n",
    "         \"programms\",\"history\",\"finally\",\"finalized\"]"
   ]
  },
  {
   "cell_type": "code",
   "execution_count": 2,
   "id": "dd415715",
   "metadata": {},
   "outputs": [],
   "source": [
    "##porter stemmer\n",
    "from nltk.stem import  PorterStemmer\n",
    "stemming= PorterStemmer()"
   ]
  },
  {
   "cell_type": "code",
   "execution_count": 3,
   "id": "45acaf5d",
   "metadata": {},
   "outputs": [
    {
     "name": "stdout",
     "output_type": "stream",
     "text": [
      "eating ----->: eat\n",
      "eats ----->: eat\n",
      "eaten ----->: eaten\n",
      "writing ----->: write\n",
      "writes ----->: write\n",
      "programming ----->: program\n",
      "programms ----->: programm\n",
      "history ----->: histori\n",
      "finally ----->: final\n",
      "finalized ----->: final\n"
     ]
    }
   ],
   "source": [
    "for word in words:\n",
    "    print(word,\"----->:\",stemming.stem(word))"
   ]
  },
  {
   "cell_type": "code",
   "execution_count": 6,
   "id": "2d8987b2",
   "metadata": {},
   "outputs": [
    {
     "data": {
      "text/plain": [
       "'congur'"
      ]
     },
     "execution_count": 6,
     "metadata": {},
     "output_type": "execute_result"
    }
   ],
   "source": [
    "stemming.stem('congurations')\n",
    "# stemming.stem(\"sitting\")"
   ]
  },
  {
   "cell_type": "code",
   "execution_count": 11,
   "id": "3135b21d",
   "metadata": {},
   "outputs": [
    {
     "data": {
      "text/plain": [
       "'was'"
      ]
     },
     "execution_count": 11,
     "metadata": {},
     "output_type": "execute_result"
    }
   ],
   "source": [
    "##regexstemmer\n",
    "from nltk.stem import RegexpStemmer\n",
    "reg_stemmer = RegexpStemmer('ing$|s$|e$|able$', min=4)\n",
    "reg_stemmer.stem('sitting')\n",
    "reg_stemmer.stem(\"was\")"
   ]
  },
  {
   "cell_type": "code",
   "execution_count": 15,
   "id": "f763190d",
   "metadata": {},
   "outputs": [],
   "source": [
    "##snowballl stemmer --- updated version porter stemmer //porter2 \n",
    "from nltk.stem import SnowballStemmer\n",
    "snow_stemmer = SnowballStemmer('english')\n"
   ]
  },
  {
   "cell_type": "code",
   "execution_count": 16,
   "id": "2f7aec68",
   "metadata": {},
   "outputs": [
    {
     "name": "stdout",
     "output_type": "stream",
     "text": [
      "eating ----->: eat\n",
      "eats ----->: eat\n",
      "eaten ----->: eaten\n",
      "writing ----->: write\n",
      "writes ----->: write\n",
      "programming ----->: program\n",
      "programms ----->: programm\n",
      "history ----->: histori\n",
      "finally ----->: final\n",
      "finalized ----->: final\n"
     ]
    }
   ],
   "source": [
    "for word in words:\n",
    "    print(word,\"----->:\",snow_stemmer.stem(word))"
   ]
  },
  {
   "cell_type": "code",
   "execution_count": null,
   "id": "5a4d945b",
   "metadata": {},
   "outputs": [],
   "source": []
  }
 ],
 "metadata": {
  "kernelspec": {
   "display_name": "Python 3",
   "language": "python",
   "name": "python3"
  },
  "language_info": {
   "codemirror_mode": {
    "name": "ipython",
    "version": 3
   },
   "file_extension": ".py",
   "mimetype": "text/x-python",
   "name": "python",
   "nbconvert_exporter": "python",
   "pygments_lexer": "ipython3",
   "version": "3.11.9"
  }
 },
 "nbformat": 4,
 "nbformat_minor": 5
}
